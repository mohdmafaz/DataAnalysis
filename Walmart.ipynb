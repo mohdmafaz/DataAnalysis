{
 "cells": [
  {
   "cell_type": "markdown",
   "id": "cd1c9cf5",
   "metadata": {},
   "source": [
    "Importing Dependencies"
   ]
  },
  {
   "cell_type": "code",
   "execution_count": 1,
   "id": "dcf93de6",
   "metadata": {},
   "outputs": [],
   "source": [
    "\n",
    "\n",
    "import pandas as pd\n",
    "import matplotlib.pyplot as plt\n",
    "import numpy as np\n"
   ]
  },
  {
   "cell_type": "markdown",
   "id": "8bc05c60",
   "metadata": {},
   "source": [
    "Reading CSV Files"
   ]
  },
  {
   "cell_type": "code",
   "execution_count": 2,
   "id": "c12b0062",
   "metadata": {},
   "outputs": [],
   "source": [
    "Walmart_stores = pd.read_csv(\"stores.csv\")\n",
    "Walmart_features = pd.read_csv(\"features.csv\")"
   ]
  },
  {
   "cell_type": "code",
   "execution_count": 3,
   "id": "06e26453",
   "metadata": {},
   "outputs": [
    {
     "data": {
      "text/plain": [
       "(   Store Type    Size\n",
       " 0      1    A  151315\n",
       " 1      2    A  202307\n",
       " 2      3    B   37392\n",
       " 3      4    A  205863\n",
       " 4      5    B   34875,\n",
       "    Store        Date  Temperature  Fuel_Price  MarkDown1  MarkDown2  \\\n",
       " 0      1  2010-02-05        42.31       2.572        NaN        NaN   \n",
       " 1      1  2010-02-12        38.51       2.548        NaN        NaN   \n",
       " 2      1  2010-02-19        39.93       2.514        NaN        NaN   \n",
       " 3      1  2010-02-26        46.63       2.561        NaN        NaN   \n",
       " 4      1  2010-03-05        46.50       2.625        NaN        NaN   \n",
       " \n",
       "    MarkDown3  MarkDown4  MarkDown5         CPI  Unemployment  IsHoliday  \n",
       " 0        NaN        NaN        NaN  211.096358         8.106      False  \n",
       " 1        NaN        NaN        NaN  211.242170         8.106       True  \n",
       " 2        NaN        NaN        NaN  211.289143         8.106      False  \n",
       " 3        NaN        NaN        NaN  211.319643         8.106      False  \n",
       " 4        NaN        NaN        NaN  211.350143         8.106      False  )"
      ]
     },
     "execution_count": 3,
     "metadata": {},
     "output_type": "execute_result"
    }
   ],
   "source": [
    "Walmart_stores.head()  , Walmart_features.head() "
   ]
  },
  {
   "cell_type": "code",
   "execution_count": 4,
   "id": "b0580992",
   "metadata": {},
   "outputs": [
    {
     "name": "stdout",
     "output_type": "stream",
     "text": [
      "FEATURES COLUMNS\n",
      "Index(['Store', 'Date', 'Temperature', 'Fuel_Price', 'MarkDown1', 'MarkDown2',\n",
      "       'MarkDown3', 'MarkDown4', 'MarkDown5', 'CPI', 'Unemployment',\n",
      "       'IsHoliday'],\n",
      "      dtype='object')\n",
      "----------------------------------------------------------------------------------------------------\n",
      "STORES COLUMNS\n",
      "Index(['Store', 'Type', 'Size'], dtype='object')\n",
      "----------------------------------------------------------------------------------------------------\n",
      "----------------------------------------------------------------------------------------------------\n",
      "FEATURES dtypes\n",
      "Store             int64\n",
      "Date             object\n",
      "Temperature     float64\n",
      "Fuel_Price      float64\n",
      "MarkDown1       float64\n",
      "MarkDown2       float64\n",
      "MarkDown3       float64\n",
      "MarkDown4       float64\n",
      "MarkDown5       float64\n",
      "CPI             float64\n",
      "Unemployment    float64\n",
      "IsHoliday          bool\n",
      "dtype: object\n",
      "STORES dtypes\n",
      "----------------------------------------------------------------------------------------------------\n",
      "Store     int64\n",
      "Type     object\n",
      "Size      int64\n",
      "dtype: object\n",
      "----------------------------------------------------------------------------------------------------\n",
      "----------------------------------------------------------------------------------------------------\n",
      "FEATURES info\n",
      "<class 'pandas.core.frame.DataFrame'>\n",
      "RangeIndex: 8190 entries, 0 to 8189\n",
      "Data columns (total 12 columns):\n",
      " #   Column        Non-Null Count  Dtype  \n",
      "---  ------        --------------  -----  \n",
      " 0   Store         8190 non-null   int64  \n",
      " 1   Date          8190 non-null   object \n",
      " 2   Temperature   8190 non-null   float64\n",
      " 3   Fuel_Price    8190 non-null   float64\n",
      " 4   MarkDown1     4032 non-null   float64\n",
      " 5   MarkDown2     2921 non-null   float64\n",
      " 6   MarkDown3     3613 non-null   float64\n",
      " 7   MarkDown4     3464 non-null   float64\n",
      " 8   MarkDown5     4050 non-null   float64\n",
      " 9   CPI           7605 non-null   float64\n",
      " 10  Unemployment  7605 non-null   float64\n",
      " 11  IsHoliday     8190 non-null   bool   \n",
      "dtypes: bool(1), float64(9), int64(1), object(1)\n",
      "memory usage: 712.0+ KB\n",
      "None\n",
      "----------------------------------------------------------------------------------------------------\n",
      "STOES info\n",
      "<class 'pandas.core.frame.DataFrame'>\n",
      "RangeIndex: 45 entries, 0 to 44\n",
      "Data columns (total 3 columns):\n",
      " #   Column  Non-Null Count  Dtype \n",
      "---  ------  --------------  ----- \n",
      " 0   Store   45 non-null     int64 \n",
      " 1   Type    45 non-null     object\n",
      " 2   Size    45 non-null     int64 \n",
      "dtypes: int64(2), object(1)\n",
      "memory usage: 1.2+ KB\n",
      "None\n"
     ]
    }
   ],
   "source": [
    "\n",
    "def info():\n",
    "    print(\"FEATURES COLUMNS\")\n",
    "    print(Walmart_features.columns)\n",
    "    print(\"-\"*100)\n",
    "    print(\"STORES COLUMNS\")\n",
    "    print(Walmart_stores.columns)\n",
    "    print(\"-\"*100)\n",
    "    print(\"-\"*100)\n",
    "    \n",
    "    print(\"FEATURES dtypes\")\n",
    "    print(Walmart_features.dtypes)\n",
    "    print(\"STORES dtypes\")\n",
    "    print(\"-\"*100)\n",
    "    print(Walmart_stores.dtypes)\n",
    "    print(\"-\"*100)\n",
    "    print(\"-\"*100)\n",
    "    \n",
    "    print(\"FEATURES info\")\n",
    "    print(Walmart_features.info())\n",
    "    print(\"-\"*100)\n",
    "    print(\"STOES info\")\n",
    "    print(Walmart_stores.info())\n",
    "    \n",
    "    \n",
    "    \n",
    "    \n",
    "info()\n"
   ]
  },
  {
   "cell_type": "markdown",
   "id": "aa431c07",
   "metadata": {},
   "source": [
    "Cleaning Data"
   ]
  },
  {
   "cell_type": "code",
   "execution_count": 5,
   "id": "d641f95c",
   "metadata": {},
   "outputs": [
    {
     "data": {
      "text/plain": [
       "(8190, 12)"
      ]
     },
     "execution_count": 5,
     "metadata": {},
     "output_type": "execute_result"
    }
   ],
   "source": [
    "Walmart_features.shape"
   ]
  },
  {
   "cell_type": "code",
   "execution_count": 6,
   "id": "3dea4b11",
   "metadata": {},
   "outputs": [],
   "source": [
    "Walmart_features = Walmart_features.dropna()"
   ]
  },
  {
   "cell_type": "code",
   "execution_count": 7,
   "id": "a2eabcf8",
   "metadata": {},
   "outputs": [
    {
     "data": {
      "text/plain": [
       "(2069, 12)"
      ]
     },
     "execution_count": 7,
     "metadata": {},
     "output_type": "execute_result"
    }
   ],
   "source": [
    "Walmart_features.shape"
   ]
  },
  {
   "cell_type": "code",
   "execution_count": 8,
   "id": "e38fa551",
   "metadata": {},
   "outputs": [
    {
     "name": "stdout",
     "output_type": "stream",
     "text": [
      "6121 rows contaning Null values removed \n"
     ]
    }
   ],
   "source": [
    "\n",
    "print(f\"{8190 - 2069} rows contaning Null values removed \")\n"
   ]
  },
  {
   "cell_type": "code",
   "execution_count": 9,
   "id": "07c46d76",
   "metadata": {},
   "outputs": [
    {
     "data": {
      "text/plain": [
       "(45, 3)"
      ]
     },
     "execution_count": 9,
     "metadata": {},
     "output_type": "execute_result"
    }
   ],
   "source": [
    "Walmart_stores.shape"
   ]
  },
  {
   "cell_type": "code",
   "execution_count": 10,
   "id": "6431fbe9",
   "metadata": {},
   "outputs": [],
   "source": [
    "Walmart_stores = Walmart_stores.dropna()"
   ]
  },
  {
   "cell_type": "code",
   "execution_count": 11,
   "id": "3cdc2fc5",
   "metadata": {},
   "outputs": [
    {
     "data": {
      "text/plain": [
       "(45, 3)"
      ]
     },
     "execution_count": 11,
     "metadata": {},
     "output_type": "execute_result"
    }
   ],
   "source": [
    "Walmart_stores.shape"
   ]
  },
  {
   "cell_type": "code",
   "execution_count": 12,
   "id": "05f25ce0",
   "metadata": {},
   "outputs": [
    {
     "name": "stdout",
     "output_type": "stream",
     "text": [
      "0 rows contaning Null values removed \n"
     ]
    }
   ],
   "source": [
    "print(f\"0 rows contaning Null values removed \")"
   ]
  },
  {
   "cell_type": "code",
   "execution_count": null,
   "id": "67bc901a",
   "metadata": {},
   "outputs": [],
   "source": []
  },
  {
   "cell_type": "markdown",
   "id": "fd8f5b9f",
   "metadata": {},
   "source": [
    "Deeper Dive"
   ]
  },
  {
   "cell_type": "code",
   "execution_count": null,
   "id": "f8003e39",
   "metadata": {},
   "outputs": [],
   "source": []
  },
  {
   "cell_type": "code",
   "execution_count": 144,
   "id": "d75ae220",
   "metadata": {},
   "outputs": [
    {
     "data": {
      "text/plain": [
       "'\\nRelationships between unemployment and other criterias\\n'"
      ]
     },
     "execution_count": 144,
     "metadata": {},
     "output_type": "execute_result"
    }
   ],
   "source": [
    "\"\"\"\n",
    "Relationships between unemployment and other criterias\n",
    "\"\"\""
   ]
  },
  {
   "cell_type": "code",
   "execution_count": 13,
   "id": "d8180648",
   "metadata": {},
   "outputs": [],
   "source": [
    "max_unemployement = Walmart_features[Walmart_features['Unemployment'] == \n",
    "                 Walmart_features['Unemployment'].max()]"
   ]
  },
  {
   "cell_type": "code",
   "execution_count": 14,
   "id": "bd33830a",
   "metadata": {},
   "outputs": [],
   "source": [
    "min_unemployement = Walmart_features[Walmart_features['Unemployment'] == \n",
    "                 Walmart_features['Unemployment'].min()]"
   ]
  },
  {
   "cell_type": "code",
   "execution_count": 15,
   "id": "3cae2781",
   "metadata": {},
   "outputs": [
    {
     "data": {
      "text/html": [
       "<div>\n",
       "<style scoped>\n",
       "    .dataframe tbody tr th:only-of-type {\n",
       "        vertical-align: middle;\n",
       "    }\n",
       "\n",
       "    .dataframe tbody tr th {\n",
       "        vertical-align: top;\n",
       "    }\n",
       "\n",
       "    .dataframe thead th {\n",
       "        text-align: right;\n",
       "    }\n",
       "</style>\n",
       "<table border=\"1\" class=\"dataframe\">\n",
       "  <thead>\n",
       "    <tr style=\"text-align: right;\">\n",
       "      <th></th>\n",
       "      <th>Store</th>\n",
       "      <th>Date</th>\n",
       "      <th>Temperature</th>\n",
       "      <th>Fuel_Price</th>\n",
       "      <th>MarkDown1</th>\n",
       "      <th>MarkDown2</th>\n",
       "      <th>MarkDown3</th>\n",
       "      <th>MarkDown4</th>\n",
       "      <th>MarkDown5</th>\n",
       "      <th>CPI</th>\n",
       "      <th>Unemployment</th>\n",
       "      <th>IsHoliday</th>\n",
       "    </tr>\n",
       "  </thead>\n",
       "  <tbody>\n",
       "    <tr>\n",
       "      <th>2094</th>\n",
       "      <td>12</td>\n",
       "      <td>2011-11-11</td>\n",
       "      <td>48.76</td>\n",
       "      <td>3.824</td>\n",
       "      <td>18049.87</td>\n",
       "      <td>7939.68</td>\n",
       "      <td>234.64</td>\n",
       "      <td>10463.07</td>\n",
       "      <td>5588.33</td>\n",
       "      <td>129.816710</td>\n",
       "      <td>12.89</td>\n",
       "      <td>False</td>\n",
       "    </tr>\n",
       "    <tr>\n",
       "      <th>2095</th>\n",
       "      <td>12</td>\n",
       "      <td>2011-11-18</td>\n",
       "      <td>54.20</td>\n",
       "      <td>3.813</td>\n",
       "      <td>5957.36</td>\n",
       "      <td>343.22</td>\n",
       "      <td>84.93</td>\n",
       "      <td>2390.67</td>\n",
       "      <td>12934.62</td>\n",
       "      <td>129.826833</td>\n",
       "      <td>12.89</td>\n",
       "      <td>False</td>\n",
       "    </tr>\n",
       "    <tr>\n",
       "      <th>2096</th>\n",
       "      <td>12</td>\n",
       "      <td>2011-11-25</td>\n",
       "      <td>53.25</td>\n",
       "      <td>3.622</td>\n",
       "      <td>5391.83</td>\n",
       "      <td>8.00</td>\n",
       "      <td>63143.29</td>\n",
       "      <td>49.27</td>\n",
       "      <td>2115.67</td>\n",
       "      <td>129.836400</td>\n",
       "      <td>12.89</td>\n",
       "      <td>True</td>\n",
       "    </tr>\n",
       "    <tr>\n",
       "      <th>2098</th>\n",
       "      <td>12</td>\n",
       "      <td>2011-12-09</td>\n",
       "      <td>42.17</td>\n",
       "      <td>3.644</td>\n",
       "      <td>8374.63</td>\n",
       "      <td>15.85</td>\n",
       "      <td>573.92</td>\n",
       "      <td>5849.71</td>\n",
       "      <td>37581.27</td>\n",
       "      <td>129.855533</td>\n",
       "      <td>12.89</td>\n",
       "      <td>False</td>\n",
       "    </tr>\n",
       "    <tr>\n",
       "      <th>2099</th>\n",
       "      <td>12</td>\n",
       "      <td>2011-12-16</td>\n",
       "      <td>43.29</td>\n",
       "      <td>3.600</td>\n",
       "      <td>4940.95</td>\n",
       "      <td>28.45</td>\n",
       "      <td>1038.30</td>\n",
       "      <td>1100.93</td>\n",
       "      <td>5243.21</td>\n",
       "      <td>129.898065</td>\n",
       "      <td>12.89</td>\n",
       "      <td>False</td>\n",
       "    </tr>\n",
       "    <tr>\n",
       "      <th>2100</th>\n",
       "      <td>12</td>\n",
       "      <td>2011-12-23</td>\n",
       "      <td>45.40</td>\n",
       "      <td>3.541</td>\n",
       "      <td>1797.35</td>\n",
       "      <td>15.98</td>\n",
       "      <td>839.84</td>\n",
       "      <td>1375.84</td>\n",
       "      <td>17699.26</td>\n",
       "      <td>129.984548</td>\n",
       "      <td>12.89</td>\n",
       "      <td>False</td>\n",
       "    </tr>\n",
       "    <tr>\n",
       "      <th>2101</th>\n",
       "      <td>12</td>\n",
       "      <td>2011-12-30</td>\n",
       "      <td>44.64</td>\n",
       "      <td>3.428</td>\n",
       "      <td>6982.02</td>\n",
       "      <td>58804.91</td>\n",
       "      <td>60.29</td>\n",
       "      <td>1268.21</td>\n",
       "      <td>3553.79</td>\n",
       "      <td>130.071032</td>\n",
       "      <td>12.89</td>\n",
       "      <td>True</td>\n",
       "    </tr>\n",
       "    <tr>\n",
       "      <th>5006</th>\n",
       "      <td>28</td>\n",
       "      <td>2011-11-11</td>\n",
       "      <td>48.76</td>\n",
       "      <td>3.824</td>\n",
       "      <td>22860.64</td>\n",
       "      <td>12223.82</td>\n",
       "      <td>343.77</td>\n",
       "      <td>20834.37</td>\n",
       "      <td>9895.33</td>\n",
       "      <td>129.816710</td>\n",
       "      <td>12.89</td>\n",
       "      <td>False</td>\n",
       "    </tr>\n",
       "    <tr>\n",
       "      <th>5007</th>\n",
       "      <td>28</td>\n",
       "      <td>2011-11-18</td>\n",
       "      <td>54.20</td>\n",
       "      <td>3.813</td>\n",
       "      <td>6772.46</td>\n",
       "      <td>1654.68</td>\n",
       "      <td>86.01</td>\n",
       "      <td>1068.35</td>\n",
       "      <td>9835.85</td>\n",
       "      <td>129.826833</td>\n",
       "      <td>12.89</td>\n",
       "      <td>False</td>\n",
       "    </tr>\n",
       "    <tr>\n",
       "      <th>5008</th>\n",
       "      <td>28</td>\n",
       "      <td>2011-11-25</td>\n",
       "      <td>53.25</td>\n",
       "      <td>3.622</td>\n",
       "      <td>2232.08</td>\n",
       "      <td>179.73</td>\n",
       "      <td>61319.72</td>\n",
       "      <td>513.76</td>\n",
       "      <td>1790.89</td>\n",
       "      <td>129.836400</td>\n",
       "      <td>12.89</td>\n",
       "      <td>True</td>\n",
       "    </tr>\n",
       "    <tr>\n",
       "      <th>5009</th>\n",
       "      <td>28</td>\n",
       "      <td>2011-12-02</td>\n",
       "      <td>52.50</td>\n",
       "      <td>3.701</td>\n",
       "      <td>10392.61</td>\n",
       "      <td>75.00</td>\n",
       "      <td>2241.11</td>\n",
       "      <td>6243.02</td>\n",
       "      <td>19374.19</td>\n",
       "      <td>129.845967</td>\n",
       "      <td>12.89</td>\n",
       "      <td>False</td>\n",
       "    </tr>\n",
       "    <tr>\n",
       "      <th>5010</th>\n",
       "      <td>28</td>\n",
       "      <td>2011-12-09</td>\n",
       "      <td>42.17</td>\n",
       "      <td>3.644</td>\n",
       "      <td>6628.73</td>\n",
       "      <td>21.00</td>\n",
       "      <td>140.19</td>\n",
       "      <td>6168.78</td>\n",
       "      <td>14073.59</td>\n",
       "      <td>129.855533</td>\n",
       "      <td>12.89</td>\n",
       "      <td>False</td>\n",
       "    </tr>\n",
       "    <tr>\n",
       "      <th>5011</th>\n",
       "      <td>28</td>\n",
       "      <td>2011-12-16</td>\n",
       "      <td>43.29</td>\n",
       "      <td>3.600</td>\n",
       "      <td>2429.88</td>\n",
       "      <td>18.24</td>\n",
       "      <td>347.78</td>\n",
       "      <td>573.31</td>\n",
       "      <td>6432.36</td>\n",
       "      <td>129.898065</td>\n",
       "      <td>12.89</td>\n",
       "      <td>False</td>\n",
       "    </tr>\n",
       "    <tr>\n",
       "      <th>5012</th>\n",
       "      <td>28</td>\n",
       "      <td>2011-12-23</td>\n",
       "      <td>45.40</td>\n",
       "      <td>3.541</td>\n",
       "      <td>2135.31</td>\n",
       "      <td>1.53</td>\n",
       "      <td>752.34</td>\n",
       "      <td>499.00</td>\n",
       "      <td>5674.11</td>\n",
       "      <td>129.984548</td>\n",
       "      <td>12.89</td>\n",
       "      <td>False</td>\n",
       "    </tr>\n",
       "    <tr>\n",
       "      <th>5013</th>\n",
       "      <td>28</td>\n",
       "      <td>2011-12-30</td>\n",
       "      <td>44.64</td>\n",
       "      <td>3.428</td>\n",
       "      <td>5218.93</td>\n",
       "      <td>49826.06</td>\n",
       "      <td>155.37</td>\n",
       "      <td>1011.54</td>\n",
       "      <td>7761.98</td>\n",
       "      <td>130.071032</td>\n",
       "      <td>12.89</td>\n",
       "      <td>True</td>\n",
       "    </tr>\n",
       "  </tbody>\n",
       "</table>\n",
       "</div>"
      ],
      "text/plain": [
       "      Store        Date  Temperature  Fuel_Price  MarkDown1  MarkDown2  \\\n",
       "2094     12  2011-11-11        48.76       3.824   18049.87    7939.68   \n",
       "2095     12  2011-11-18        54.20       3.813    5957.36     343.22   \n",
       "2096     12  2011-11-25        53.25       3.622    5391.83       8.00   \n",
       "2098     12  2011-12-09        42.17       3.644    8374.63      15.85   \n",
       "2099     12  2011-12-16        43.29       3.600    4940.95      28.45   \n",
       "2100     12  2011-12-23        45.40       3.541    1797.35      15.98   \n",
       "2101     12  2011-12-30        44.64       3.428    6982.02   58804.91   \n",
       "5006     28  2011-11-11        48.76       3.824   22860.64   12223.82   \n",
       "5007     28  2011-11-18        54.20       3.813    6772.46    1654.68   \n",
       "5008     28  2011-11-25        53.25       3.622    2232.08     179.73   \n",
       "5009     28  2011-12-02        52.50       3.701   10392.61      75.00   \n",
       "5010     28  2011-12-09        42.17       3.644    6628.73      21.00   \n",
       "5011     28  2011-12-16        43.29       3.600    2429.88      18.24   \n",
       "5012     28  2011-12-23        45.40       3.541    2135.31       1.53   \n",
       "5013     28  2011-12-30        44.64       3.428    5218.93   49826.06   \n",
       "\n",
       "      MarkDown3  MarkDown4  MarkDown5         CPI  Unemployment  IsHoliday  \n",
       "2094     234.64   10463.07    5588.33  129.816710         12.89      False  \n",
       "2095      84.93    2390.67   12934.62  129.826833         12.89      False  \n",
       "2096   63143.29      49.27    2115.67  129.836400         12.89       True  \n",
       "2098     573.92    5849.71   37581.27  129.855533         12.89      False  \n",
       "2099    1038.30    1100.93    5243.21  129.898065         12.89      False  \n",
       "2100     839.84    1375.84   17699.26  129.984548         12.89      False  \n",
       "2101      60.29    1268.21    3553.79  130.071032         12.89       True  \n",
       "5006     343.77   20834.37    9895.33  129.816710         12.89      False  \n",
       "5007      86.01    1068.35    9835.85  129.826833         12.89      False  \n",
       "5008   61319.72     513.76    1790.89  129.836400         12.89       True  \n",
       "5009    2241.11    6243.02   19374.19  129.845967         12.89      False  \n",
       "5010     140.19    6168.78   14073.59  129.855533         12.89      False  \n",
       "5011     347.78     573.31    6432.36  129.898065         12.89      False  \n",
       "5012     752.34     499.00    5674.11  129.984548         12.89      False  \n",
       "5013     155.37    1011.54    7761.98  130.071032         12.89       True  "
      ]
     },
     "execution_count": 15,
     "metadata": {},
     "output_type": "execute_result"
    }
   ],
   "source": [
    "max_unemployement"
   ]
  },
  {
   "cell_type": "code",
   "execution_count": 16,
   "id": "3f738d92",
   "metadata": {},
   "outputs": [
    {
     "data": {
      "text/html": [
       "<div>\n",
       "<style scoped>\n",
       "    .dataframe tbody tr th:only-of-type {\n",
       "        vertical-align: middle;\n",
       "    }\n",
       "\n",
       "    .dataframe tbody tr th {\n",
       "        vertical-align: top;\n",
       "    }\n",
       "\n",
       "    .dataframe thead th {\n",
       "        text-align: right;\n",
       "    }\n",
       "</style>\n",
       "<table border=\"1\" class=\"dataframe\">\n",
       "  <thead>\n",
       "    <tr style=\"text-align: right;\">\n",
       "      <th></th>\n",
       "      <th>Store</th>\n",
       "      <th>Date</th>\n",
       "      <th>Temperature</th>\n",
       "      <th>Fuel_Price</th>\n",
       "      <th>MarkDown1</th>\n",
       "      <th>MarkDown2</th>\n",
       "      <th>MarkDown3</th>\n",
       "      <th>MarkDown4</th>\n",
       "      <th>MarkDown5</th>\n",
       "      <th>CPI</th>\n",
       "      <th>Unemployment</th>\n",
       "      <th>IsHoliday</th>\n",
       "    </tr>\n",
       "  </thead>\n",
       "  <tbody>\n",
       "    <tr>\n",
       "      <th>4169</th>\n",
       "      <td>23</td>\n",
       "      <td>2013-04-05</td>\n",
       "      <td>35.96</td>\n",
       "      <td>3.772</td>\n",
       "      <td>15085.79</td>\n",
       "      <td>4569.13</td>\n",
       "      <td>185.91</td>\n",
       "      <td>2067.42</td>\n",
       "      <td>2092.26</td>\n",
       "      <td>139.056903</td>\n",
       "      <td>3.684</td>\n",
       "      <td>False</td>\n",
       "    </tr>\n",
       "    <tr>\n",
       "      <th>4170</th>\n",
       "      <td>23</td>\n",
       "      <td>2013-04-12</td>\n",
       "      <td>39.54</td>\n",
       "      <td>3.723</td>\n",
       "      <td>3351.11</td>\n",
       "      <td>4315.25</td>\n",
       "      <td>73.52</td>\n",
       "      <td>1882.00</td>\n",
       "      <td>1737.99</td>\n",
       "      <td>139.122613</td>\n",
       "      <td>3.684</td>\n",
       "      <td>False</td>\n",
       "    </tr>\n",
       "    <tr>\n",
       "      <th>7263</th>\n",
       "      <td>40</td>\n",
       "      <td>2013-04-05</td>\n",
       "      <td>35.59</td>\n",
       "      <td>3.772</td>\n",
       "      <td>14110.29</td>\n",
       "      <td>5571.32</td>\n",
       "      <td>189.13</td>\n",
       "      <td>785.63</td>\n",
       "      <td>3892.09</td>\n",
       "      <td>139.056903</td>\n",
       "      <td>3.684</td>\n",
       "      <td>False</td>\n",
       "    </tr>\n",
       "    <tr>\n",
       "      <th>7264</th>\n",
       "      <td>40</td>\n",
       "      <td>2013-04-12</td>\n",
       "      <td>39.15</td>\n",
       "      <td>3.723</td>\n",
       "      <td>4934.33</td>\n",
       "      <td>3183.26</td>\n",
       "      <td>16.53</td>\n",
       "      <td>351.45</td>\n",
       "      <td>2203.32</td>\n",
       "      <td>139.122613</td>\n",
       "      <td>3.684</td>\n",
       "      <td>False</td>\n",
       "    </tr>\n",
       "    <tr>\n",
       "      <th>7265</th>\n",
       "      <td>40</td>\n",
       "      <td>2013-04-19</td>\n",
       "      <td>45.17</td>\n",
       "      <td>3.678</td>\n",
       "      <td>2322.79</td>\n",
       "      <td>1.59</td>\n",
       "      <td>20.10</td>\n",
       "      <td>133.68</td>\n",
       "      <td>1429.80</td>\n",
       "      <td>139.122613</td>\n",
       "      <td>3.684</td>\n",
       "      <td>False</td>\n",
       "    </tr>\n",
       "  </tbody>\n",
       "</table>\n",
       "</div>"
      ],
      "text/plain": [
       "      Store        Date  Temperature  Fuel_Price  MarkDown1  MarkDown2  \\\n",
       "4169     23  2013-04-05        35.96       3.772   15085.79    4569.13   \n",
       "4170     23  2013-04-12        39.54       3.723    3351.11    4315.25   \n",
       "7263     40  2013-04-05        35.59       3.772   14110.29    5571.32   \n",
       "7264     40  2013-04-12        39.15       3.723    4934.33    3183.26   \n",
       "7265     40  2013-04-19        45.17       3.678    2322.79       1.59   \n",
       "\n",
       "      MarkDown3  MarkDown4  MarkDown5         CPI  Unemployment  IsHoliday  \n",
       "4169     185.91    2067.42    2092.26  139.056903         3.684      False  \n",
       "4170      73.52    1882.00    1737.99  139.122613         3.684      False  \n",
       "7263     189.13     785.63    3892.09  139.056903         3.684      False  \n",
       "7264      16.53     351.45    2203.32  139.122613         3.684      False  \n",
       "7265      20.10     133.68    1429.80  139.122613         3.684      False  "
      ]
     },
     "execution_count": 16,
     "metadata": {},
     "output_type": "execute_result"
    }
   ],
   "source": [
    "min_unemployement"
   ]
  },
  {
   "cell_type": "code",
   "execution_count": 149,
   "id": "bbbe949f",
   "metadata": {},
   "outputs": [
    {
     "data": {
      "text/plain": [
       "\"\\nCPI : The Consumer Price Index (CPI) is a measure of the average change over time in the \\n    prices paid by urban consumers for a market basket of consumer goods and services\\n    \\nMarkDown : Markdown is the reduction of a product's selling price\\n\\n\""
      ]
     },
     "execution_count": 149,
     "metadata": {},
     "output_type": "execute_result"
    }
   ],
   "source": [
    "\"\"\"\n",
    "CPI : The Consumer Price Index (CPI) is a measure of the average change over time in the \n",
    "    prices paid by urban consumers for a market basket of consumer goods and services\n",
    "    \n",
    "MarkDown : Markdown is the reduction of a product's selling price\n",
    "\n",
    "MarkUp : MarkUp is the reduction of a product's selling price\n",
    "\n",
    "\"\"\"\n"
   ]
  },
  {
   "cell_type": "code",
   "execution_count": null,
   "id": "4a0168c8",
   "metadata": {},
   "outputs": [],
   "source": [
    "\"\"\"\n",
    "Adding Year Column to gain future ease of insights\n",
    "\"\"\""
   ]
  },
  {
   "cell_type": "code",
   "execution_count": 17,
   "id": "3e35ef58",
   "metadata": {},
   "outputs": [],
   "source": [
    "Walmart_features['Year'] = pd.DatetimeIndex(Walmart_features['Date']).year "
   ]
  },
  {
   "cell_type": "code",
   "execution_count": 18,
   "id": "59addd5c",
   "metadata": {},
   "outputs": [
    {
     "data": {
      "text/plain": [
       "Index(['Store', 'Date', 'Temperature', 'Fuel_Price', 'MarkDown1', 'MarkDown2',\n",
       "       'MarkDown3', 'MarkDown4', 'MarkDown5', 'CPI', 'Unemployment',\n",
       "       'IsHoliday', 'Year'],\n",
       "      dtype='object')"
      ]
     },
     "execution_count": 18,
     "metadata": {},
     "output_type": "execute_result"
    }
   ],
   "source": [
    "Walmart_features.columns"
   ]
  },
  {
   "cell_type": "code",
   "execution_count": 19,
   "id": "2a3a86cc",
   "metadata": {},
   "outputs": [
    {
     "data": {
      "text/plain": [
       "<BarContainer object of 2069 artists>"
      ]
     },
     "execution_count": 19,
     "metadata": {},
     "output_type": "execute_result"
    },
    {
     "data": {
      "image/png": "[encoded data removed]",
      "text/plain": [
       "<Figure size 640x480 with 1 Axes>"
      ]
     },
     "metadata": {},
     "output_type": "display_data"
    }
   ],
   "source": [
    "plt.bar(Walmart_features['Year'] , Walmart_features['Unemployment'])"
   ]
  },
  {
   "cell_type": "code",
   "execution_count": 20,
   "id": "24e0c411",
   "metadata": {},
   "outputs": [
    {
     "data": {
      "text/plain": [
       "<BarContainer object of 2069 artists>"
      ]
     },
     "execution_count": 20,
     "metadata": {},
     "output_type": "execute_result"
    },
    {
     "data": {
      "image/png": "[encoded data removed]",
      "text/plain": [
       "<Figure size 640x480 with 1 Axes>"
      ]
     },
     "metadata": {},
     "output_type": "display_data"
    }
   ],
   "source": [
    "plt.bar(Walmart_features['Year'],\n",
    "        Walmart_features['Fuel_Price'])"
   ]
  },
  {
   "cell_type": "code",
   "execution_count": null,
   "id": "fd20761d",
   "metadata": {},
   "outputs": [],
   "source": [
    "\"\"\"\n",
    "Inference : NO current relation between Fuel Price (econimies index) and umeployement\n",
    "            was found\n",
    "\"\"\""
   ]
  },
  {
   "cell_type": "code",
   "execution_count": 21,
   "id": "863d9bfc",
   "metadata": {},
   "outputs": [
    {
     "name": "stderr",
     "output_type": "stream",
     "text": [
      "/var/folders/40/9ws6_5755s3bb0spp7b5kd7h0000gr/T/ipykernel_1092/4189107766.py:1: FutureWarning: The default value of numeric_only in DataFrameGroupBy.mean is deprecated. In a future version, numeric_only will default to False. Either specify numeric_only or select only columns which should be valid for the function.\n",
      "  Year_grouped = Walmart_features.groupby('Year').mean()\n"
     ]
    },
    {
     "data": {
      "text/html": [
       "<div>\n",
       "<style scoped>\n",
       "    .dataframe tbody tr th:only-of-type {\n",
       "        vertical-align: middle;\n",
       "    }\n",
       "\n",
       "    .dataframe tbody tr th {\n",
       "        vertical-align: top;\n",
       "    }\n",
       "\n",
       "    .dataframe thead th {\n",
       "        text-align: right;\n",
       "    }\n",
       "</style>\n",
       "<table border=\"1\" class=\"dataframe\">\n",
       "  <thead>\n",
       "    <tr style=\"text-align: right;\">\n",
       "      <th></th>\n",
       "      <th>Store</th>\n",
       "      <th>Temperature</th>\n",
       "      <th>Fuel_Price</th>\n",
       "      <th>MarkDown1</th>\n",
       "      <th>MarkDown2</th>\n",
       "      <th>MarkDown3</th>\n",
       "      <th>MarkDown4</th>\n",
       "      <th>MarkDown5</th>\n",
       "      <th>CPI</th>\n",
       "      <th>Unemployment</th>\n",
       "      <th>IsHoliday</th>\n",
       "    </tr>\n",
       "    <tr>\n",
       "      <th>Year</th>\n",
       "      <th></th>\n",
       "      <th></th>\n",
       "      <th></th>\n",
       "      <th></th>\n",
       "      <th></th>\n",
       "      <th></th>\n",
       "      <th></th>\n",
       "      <th></th>\n",
       "      <th></th>\n",
       "      <th></th>\n",
       "      <th></th>\n",
       "    </tr>\n",
       "  </thead>\n",
       "  <tbody>\n",
       "    <tr>\n",
       "      <th>2011</th>\n",
       "      <td>20.123596</td>\n",
       "      <td>42.860262</td>\n",
       "      <td>3.388438</td>\n",
       "      <td>5311.102697</td>\n",
       "      <td>8279.104082</td>\n",
       "      <td>8966.450674</td>\n",
       "      <td>1575.445918</td>\n",
       "      <td>6784.575655</td>\n",
       "      <td>173.513848</td>\n",
       "      <td>7.678356</td>\n",
       "      <td>0.269663</td>\n",
       "    </tr>\n",
       "    <tr>\n",
       "      <th>2012</th>\n",
       "      <td>20.348087</td>\n",
       "      <td>58.594336</td>\n",
       "      <td>3.651765</td>\n",
       "      <td>9403.682753</td>\n",
       "      <td>3422.472993</td>\n",
       "      <td>1652.516249</td>\n",
       "      <td>4067.615941</td>\n",
       "      <td>5274.675131</td>\n",
       "      <td>175.430393</td>\n",
       "      <td>7.304145</td>\n",
       "      <td>0.099775</td>\n",
       "    </tr>\n",
       "    <tr>\n",
       "      <th>2013</th>\n",
       "      <td>20.646055</td>\n",
       "      <td>40.741343</td>\n",
       "      <td>3.574629</td>\n",
       "      <td>13118.712090</td>\n",
       "      <td>5088.476738</td>\n",
       "      <td>113.657377</td>\n",
       "      <td>6128.480789</td>\n",
       "      <td>3454.447079</td>\n",
       "      <td>177.213979</td>\n",
       "      <td>6.863768</td>\n",
       "      <td>0.089552</td>\n",
       "    </tr>\n",
       "  </tbody>\n",
       "</table>\n",
       "</div>"
      ],
      "text/plain": [
       "          Store  Temperature  Fuel_Price     MarkDown1    MarkDown2  \\\n",
       "Year                                                                  \n",
       "2011  20.123596    42.860262    3.388438   5311.102697  8279.104082   \n",
       "2012  20.348087    58.594336    3.651765   9403.682753  3422.472993   \n",
       "2013  20.646055    40.741343    3.574629  13118.712090  5088.476738   \n",
       "\n",
       "        MarkDown3    MarkDown4    MarkDown5         CPI  Unemployment  \\\n",
       "Year                                                                    \n",
       "2011  8966.450674  1575.445918  6784.575655  173.513848      7.678356   \n",
       "2012  1652.516249  4067.615941  5274.675131  175.430393      7.304145   \n",
       "2013   113.657377  6128.480789  3454.447079  177.213979      6.863768   \n",
       "\n",
       "      IsHoliday  \n",
       "Year             \n",
       "2011   0.269663  \n",
       "2012   0.099775  \n",
       "2013   0.089552  "
      ]
     },
     "execution_count": 21,
     "metadata": {},
     "output_type": "execute_result"
    }
   ],
   "source": [
    "#Grouping Data by year\n",
    "\n",
    "Year_grouped = Walmart_features.groupby('Year').mean()\n",
    "Year_grouped"
   ]
  },
  {
   "cell_type": "code",
   "execution_count": 22,
   "id": "76d76151",
   "metadata": {},
   "outputs": [
    {
     "data": {
      "text/plain": [
       "[<matplotlib.lines.Line2D at 0x11beeecb0>]"
      ]
     },
     "execution_count": 22,
     "metadata": {},
     "output_type": "execute_result"
    },
    {
     "data": {
      "image/png": "[encoded data removed]",
      "text/plain": [
       "<Figure size 640x480 with 1 Axes>"
      ]
     },
     "metadata": {},
     "output_type": "display_data"
    }
   ],
   "source": [
    "#Plotting VS Graphs\n",
    "\n",
    "plt.title(\"Unemployment vs Year\")\n",
    "plt.xlabel('Year')\n",
    "plt.ylabel('Unemployment Rate')\n",
    "plt.plot(Year_grouped['Unemployment'] )"
   ]
  },
  {
   "cell_type": "code",
   "execution_count": 24,
   "id": "98fb9a19",
   "metadata": {},
   "outputs": [
    {
     "data": {
      "text/plain": [
       "'\\nUnemployment Decreased over the years\\n'"
      ]
     },
     "execution_count": 24,
     "metadata": {},
     "output_type": "execute_result"
    }
   ],
   "source": [
    "\"\"\"\n",
    "Inference : Unemployment Decreased over the years\n",
    "\"\"\""
   ]
  },
  {
   "cell_type": "code",
   "execution_count": 25,
   "id": "fb2c5e22",
   "metadata": {},
   "outputs": [
    {
     "data": {
      "text/plain": [
       "[<matplotlib.lines.Line2D at 0x11bfb4370>]"
      ]
     },
     "execution_count": 25,
     "metadata": {},
     "output_type": "execute_result"
    },
    {
     "data": {
      "image/png": "[encoded data removed]",
      "text/plain": [
       "<Figure size 640x480 with 1 Axes>"
      ]
     },
     "metadata": {},
     "output_type": "display_data"
    }
   ],
   "source": [
    "plt.title(\"Fuel_Price vs Year\")\n",
    "plt.xlabel('Year')\n",
    "plt.ylabel('Fuel_Price')\n",
    "plt.plot(Year_grouped['Fuel_Price'] )"
   ]
  },
  {
   "cell_type": "code",
   "execution_count": null,
   "id": "7ea865aa",
   "metadata": {},
   "outputs": [],
   "source": [
    "'''\n",
    "Inference : Fuel Price peaked at 2012 and lowest at 2011\n",
    "'''"
   ]
  },
  {
   "cell_type": "code",
   "execution_count": 26,
   "id": "f1638859",
   "metadata": {},
   "outputs": [
    {
     "data": {
      "text/plain": [
       "[<matplotlib.lines.Line2D at 0x11c00f340>]"
      ]
     },
     "execution_count": 26,
     "metadata": {},
     "output_type": "execute_result"
    },
    {
     "data": {
      "image/png": "[encoded data removed]",
      "text/plain": [
       "<Figure size 640x480 with 1 Axes>"
      ]
     },
     "metadata": {},
     "output_type": "display_data"
    }
   ],
   "source": [
    "plt.title(\"CPI vs Year\")\n",
    "plt.xlabel('Year')\n",
    "plt.ylabel('CPI')\n",
    "plt.plot(Year_grouped['CPI'] )"
   ]
  },
  {
   "cell_type": "code",
   "execution_count": null,
   "id": "5f9bfdce",
   "metadata": {},
   "outputs": [],
   "source": [
    "'''\n",
    "\n",
    "Inference : CPI increased over the years\n",
    "\n",
    "'''"
   ]
  },
  {
   "cell_type": "code",
   "execution_count": 30,
   "id": "cf1650d0",
   "metadata": {},
   "outputs": [
    {
     "data": {
      "text/plain": [
       "<BarContainer object of 2069 artists>"
      ]
     },
     "execution_count": 30,
     "metadata": {},
     "output_type": "execute_result"
    },
    {
     "data": {
      "image/png": "[encoded data removed]",
      "text/plain": [
       "<Figure size 640x480 with 1 Axes>"
      ]
     },
     "metadata": {},
     "output_type": "display_data"
    }
   ],
   "source": [
    "plt.bar(Walmart_features['Year'],Walmart_features['Temperature'])"
   ]
  },
  {
   "cell_type": "code",
   "execution_count": 57,
   "id": "d9191708",
   "metadata": {},
   "outputs": [],
   "source": [
    "Walmart_features['Quarter'] = pd.DatetimeIndex(Walmart_features['Date']).quarter"
   ]
  },
  {
   "cell_type": "code",
   "execution_count": 75,
   "id": "7680e919",
   "metadata": {},
   "outputs": [],
   "source": [
    "#Visualizing Quarterly Results\n",
    "\n",
    "Quarter1 = Walmart_features.loc[Walmart_features['Quarter'] == 1]['CPI'].mean()\n",
    "Quarter2 = Walmart_features.loc[Walmart_features['Quarter'] == 2]['CPI'].mean()\n",
    "Quarter3 = Walmart_features.loc[Walmart_features['Quarter'] == 3]['CPI'].mean()\n",
    "Quarter4 = Walmart_features.loc[Walmart_features['Quarter'] == 4]['CPI'].mean()"
   ]
  },
  {
   "cell_type": "code",
   "execution_count": 79,
   "id": "595ab279",
   "metadata": {},
   "outputs": [],
   "source": [
    "Quarterly = [Quarter1 , Quarter2 , Quarter3 , Quarter4]"
   ]
  },
  {
   "cell_type": "code",
   "execution_count": 129,
   "id": "46330ddb",
   "metadata": {},
   "outputs": [
    {
     "data": {
      "text/plain": [
       "([<matplotlib.patches.Wedge at 0x1226ff550>,\n",
       "  <matplotlib.patches.Wedge at 0x1226ffbe0>,\n",
       "  <matplotlib.patches.Wedge at 0x122738250>,\n",
       "  <matplotlib.patches.Wedge at 0x1227388e0>],\n",
       " [Text(0.813652001329258, 0.8126933128387935, 'Quarter1'),\n",
       "  Text(-0.8113641919596233, 0.8149773911009481, 'Quarter2'),\n",
       "  Text(-0.8107184082851996, -0.8156198026455174, 'Quarter3'),\n",
       "  Text(0.8169420042577197, -0.8093860399583009, 'Quarter4')],\n",
       " [Text(0.459890261620885, 0.4593483942132311, '25.0%'),\n",
       "  Text(-0.4585971519771784, 0.46063939497010103, '25.0%'),\n",
       "  Text(-0.45823214381337357, -0.46100249714746633, '25.2%'),\n",
       "  Text(0.46174982849349366, -0.45747906606338745, '24.9%')])"
      ]
     },
     "execution_count": 129,
     "metadata": {},
     "output_type": "execute_result"
    },
    {
     "data": {
      "image/png": "[encoded data removed]",
      "text/plain": [
       "<Figure size 640x480 with 1 Axes>"
      ]
     },
     "metadata": {},
     "output_type": "display_data"
    }
   ],
   "source": [
    "plt.pie(Quarterly , \n",
    "        labels=['Quarter1' , 'Quarter2' , 'Quarter3' , 'Quarter4'],\n",
    "       explode = [0.05, 0.05 , 0.05 , 0.05],\n",
    "       autopct='%.1f%%')"
   ]
  },
  {
   "cell_type": "code",
   "execution_count": 88,
   "id": "5f781810",
   "metadata": {},
   "outputs": [
    {
     "data": {
      "text/plain": [
       "'\\nInference : AS the CPI remains almost constant throughout the Quarter, the sales of walmart is\\nnot seasonal\\n'"
      ]
     },
     "execution_count": 88,
     "metadata": {},
     "output_type": "execute_result"
    }
   ],
   "source": [
    "'''\n",
    "Inference : AS the CPI remains almost constant throughout the Quarter, the sales of walmart is\n",
    "            not seasonal\n",
    "'''"
   ]
  },
  {
   "cell_type": "code",
   "execution_count": 122,
   "id": "4ab3cd8d",
   "metadata": {},
   "outputs": [],
   "source": [
    "#Comparing Store Size\n",
    "\n",
    "A = Walmart_stores.loc[ Walmart_stores['Type'] == \"A\"].sum()[2]\n",
    "B = Walmart_stores.loc[ Walmart_stores['Type'] == \"B\"].sum()[2]\n",
    "C = Walmart_stores.loc[ Walmart_stores['Type'] == \"C\"].sum()[2]\n",
    "stores = [A , B , C]"
   ]
  },
  {
   "cell_type": "code",
   "execution_count": 170,
   "id": "58eea9b0",
   "metadata": {},
   "outputs": [
    {
     "data": {
      "image/png": "[encoded data removed]",
      "text/plain": [
       "<Figure size 640x480 with 1 Axes>"
      ]
     },
     "metadata": {},
     "output_type": "display_data"
    }
   ],
   "source": [
    "plt.pie(stores , \n",
    "        labels=['Store A' , 'Store B' , 'Store C'] ,\n",
    "         explode = [0.05, 0.05 , 0.05],\n",
    "           autopct='%.1f%%')\n",
    "plt.title('Store Type VS Size')\n",
    "plt.show()"
   ]
  },
  {
   "cell_type": "code",
   "execution_count": null,
   "id": "cf510dac",
   "metadata": {},
   "outputs": [],
   "source": [
    "'''\n",
    "Inference : \n",
    "\n",
    "Store of type A : 66.5%\n",
    "Store of type B : 29.3%\n",
    "Store of type C : 4.1%\n",
    "'''"
   ]
  },
  {
   "cell_type": "code",
   "execution_count": 174,
   "id": "d7590a4e",
   "metadata": {},
   "outputs": [
    {
     "data": {
      "image/png": "[encoded data removed]",
      "text/plain": [
       "<Figure size 640x480 with 1 Axes>"
      ]
     },
     "metadata": {},
     "output_type": "display_data"
    }
   ],
   "source": [
    "plt.bar(Walmart_features['Month'] , Walmart_features['Temperature'])\n",
    "plt.title('Month vs Temperature')\n",
    "plt.show()"
   ]
  },
  {
   "cell_type": "code",
   "execution_count": null,
   "id": "fe6dfbd1",
   "metadata": {},
   "outputs": [],
   "source": [
    "'''\n",
    "Inference : \n",
    "\n",
    "Temperature is at peak between June and August\n",
    "\n",
    "'''"
   ]
  },
  {
   "cell_type": "code",
   "execution_count": 175,
   "id": "53c67062",
   "metadata": {},
   "outputs": [
    {
     "data": {
      "image/png": "[encoded data removed]",
      "text/plain": [
       "<Figure size 640x480 with 1 Axes>"
      ]
     },
     "metadata": {},
     "output_type": "display_data"
    }
   ],
   "source": [
    "plt.bar(Walmart_features['Month'] , Walmart_features['Unemployment'])\n",
    "plt.title('Month VS Unemployment')\n",
    "plt.show()"
   ]
  },
  {
   "cell_type": "code",
   "execution_count": null,
   "id": "984211e4",
   "metadata": {},
   "outputs": [],
   "source": [
    "'''\n",
    "Inference : \n",
    "\n",
    "Unemployment is at peak between October and December (Year end)\n",
    "\n",
    "'''"
   ]
  },
  {
   "cell_type": "code",
   "execution_count": 166,
   "id": "005e2df3",
   "metadata": {},
   "outputs": [],
   "source": [
    "eleven = Walmart_features.loc[Walmart_features['Year'] == 2011]\n",
    "twelve = Walmart_features.loc[Walmart_features['Year'] == 2012]\n",
    "thirteen = Walmart_features.loc[Walmart_features['Year'] == 2013]\n",
    "\n",
    "holidays = [len(eleven.loc[eleven['IsHoliday'] == True]) , \n",
    "           len(twelve.loc[twelve['IsHoliday'] == True]) ,\n",
    "            len(thirteen.loc[thirteen['IsHoliday'] == True])]"
   ]
  },
  {
   "cell_type": "code",
   "execution_count": 169,
   "id": "b5c11ca9",
   "metadata": {},
   "outputs": [
    {
     "data": {
      "image/png": "[encoded data removed]",
      "text/plain": [
       "<Figure size 640x480 with 1 Axes>"
      ]
     },
     "metadata": {},
     "output_type": "display_data"
    }
   ],
   "source": [
    "plt.pie(holidays , \n",
    "        labels=['2011' , '2012' , '2013'] ,\n",
    "        explode = [0.05, 0.05 , 0.05],\n",
    "        autopct='%.1f%%')\n",
    "plt.title('Year VS Holidays')\n",
    "plt.show()"
   ]
  },
  {
   "cell_type": "code",
   "execution_count": 176,
   "id": "82bc49ae",
   "metadata": {},
   "outputs": [
    {
     "data": {
      "text/plain": [
       "'\\n'"
      ]
     },
     "execution_count": 176,
     "metadata": {},
     "output_type": "execute_result"
    }
   ],
   "source": [
    "'''\n",
    "Inference : \n",
    "\n",
    "from Above Graphs\n",
    "\n",
    "2012 had the largest number of holidays \n",
    "2012 had the highest Fuel Price\n",
    "2012 had the highest temperatue\n",
    "2012 had the second highest Unemployement percentage\n",
    "\n",
    "'''"
   ]
  },
  {
   "cell_type": "code",
   "execution_count": null,
   "id": "f580f2b1",
   "metadata": {},
   "outputs": [],
   "source": []
  },
  {
   "cell_type": "code",
   "execution_count": null,
   "id": "a0e91366",
   "metadata": {},
   "outputs": [],
   "source": []
  },
  {
   "cell_type": "code",
   "execution_count": 1,
   "id": "c524db8b",
   "metadata": {},
   "outputs": [
    {
     "data": {
      "text/plain": [
       "'\\nConclusion:\\n\\nUnemployment Decreased over the years.\\n\\n\\nNO Direct relation between Fuel Price (econimies index) and umeployement was found.\\n    \\nIndirect relationship between Fuel Price (economies index) and umeployement: \\n            2012 had the highest Fuel Price.\\n            2012 had the second highest Unemployement percentage.\\n            \\nFuel Price peaked at 2012 and lowest at 2011.\\n\\nCPI increased over the years.\\n\\nAS the CPI remains almost constant throughout the Quarter, the sales of walmart is not seasonal\\nQuarter 1 : 25%\\nQuarter 2 : 25%\\nQuarter 3 : 25.2%\\nQuarter 4 : 24.9%\\n\\nStore of type A Size : 66.5%\\nStore of type B Size : 29.3%\\nStore of type C Size : 4.1%\\n\\n\\nTemperature is at peak between June and August.\\n\\n\\nUnemployment is at peak between October and December (Year end).\\n\\nTemperature and Holidays Peaked Between \\n\\n\\n'"
      ]
     },
     "execution_count": 1,
     "metadata": {},
     "output_type": "execute_result"
    }
   ],
   "source": [
    "'''\n",
    "Conclusion:\n",
    "\n",
    "Unemployment Decreased over the years.\n",
    "\n",
    "\n",
    "NO Direct relation between Fuel Price (econimies index) and umeployement was found.\n",
    "    \n",
    "Indirect relationship between Fuel Price (economies index) and umeployement: \n",
    "            2012 had the highest Fuel Price.\n",
    "            2012 had the second highest Unemployement percentage.\n",
    "            \n",
    "Fuel Price peaked at 2012 and lowest at 2011.\n",
    "\n",
    "CPI increased over the years.\n",
    "\n",
    "AS the CPI remains almost constant throughout the Quarter, the sales of walmart is not seasonal\n",
    "Quarter 1 : 25%\n",
    "Quarter 2 : 25%\n",
    "Quarter 3 : 25.2%\n",
    "Quarter 4 : 24.9%\n",
    "\n",
    "Store of type A Size : 66.5%\n",
    "Store of type B Size : 29.3%\n",
    "Store of type C Size : 4.1%\n",
    "\n",
    "\n",
    "Temperature is at peak between June and August.\n",
    "\n",
    "\n",
    "Unemployment is at peak between October and December (Year end).\n",
    "\n",
    "\n",
    "Temperature , Holidays , fuel Peaked at 2012 (shows direct correlation)\n",
    "\n",
    "\n",
    "'''"
   ]
  },
  {
   "cell_type": "code",
   "execution_count": null,
   "id": "00410540",
   "metadata": {},
   "outputs": [],
   "source": []
  }
 ],
 "metadata": {
  "kernelspec": {
   "display_name": "Python 3 (ipykernel)",
   "language": "python",
   "name": "python3"
  },
  "language_info": {
   "codemirror_mode": {
    "name": "ipython",
    "version": 3
   },
   "file_extension": ".py",
   "mimetype": "text/x-python",
   "name": "python",
   "nbconvert_exporter": "python",
   "pygments_lexer": "ipython3",
   "version": "3.10.9"
  }
 },
 "nbformat": 4,
 "nbformat_minor": 5
}
